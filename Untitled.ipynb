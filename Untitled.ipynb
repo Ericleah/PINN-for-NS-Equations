{
 "cells": [
  {
   "cell_type": "code",
   "execution_count": 1,
   "id": "e54dd734",
   "metadata": {},
   "outputs": [],
   "source": [
    "import torch"
   ]
  },
  {
   "cell_type": "code",
   "execution_count": 1,
   "id": "1ad73ae4",
   "metadata": {},
   "outputs": [],
   "source": [
    "import numpy as np\n",
    "import torch\n",
    "import torch.nn as nn\n",
    "import matplotlib.pyplot as plt\n",
    "from torch.autograd import Variable\n",
    "\n",
    "device = torch.device(\"cuda\" if torch.cuda.is_available() else \"cpu\")"
   ]
  },
  {
   "cell_type": "code",
   "execution_count": null,
   "id": "39f7e898",
   "metadata": {},
   "outputs": [],
   "source": [
    "pip install torch"
   ]
  },
  {
   "cell_type": "code",
   "execution_count": 2,
   "id": "50bddb35",
   "metadata": {},
   "outputs": [],
   "source": [
    "N = 5000  # number of data points\n",
    "\n",
    "# Sample points from the interior\n",
    "x_interior = np.random.rand(N, 1)\n",
    "y_interior = np.random.rand(N, 1)"
   ]
  },
  {
   "cell_type": "code",
   "execution_count": 3,
   "id": "89c78632",
   "metadata": {},
   "outputs": [
    {
     "name": "stdout",
     "output_type": "stream",
     "text": [
      "[[0.1985608 ]\n",
      " [0.99554532]\n",
      " [0.25841671]\n",
      " ...\n",
      " [0.30159568]\n",
      " [0.94515673]\n",
      " [0.65183822]]\n"
     ]
    }
   ],
   "source": [
    "print(x_interior)"
   ]
  },
  {
   "cell_type": "code",
   "execution_count": 4,
   "id": "e9f94e20",
   "metadata": {},
   "outputs": [],
   "source": [
    "# Sample points from the boundaries\n",
    "x_boundary = np.concatenate([np.random.rand(N, 1), np.random.rand(N, 1), np.zeros((N, 1)), np.ones((N, 1))])\n",
    "y_boundary = np.concatenate([np.random.rand(N, 1), np.random.rand(N, 1), np.zeros((N, 1)), np.ones((N, 1))])"
   ]
  },
  {
   "cell_type": "code",
   "execution_count": 5,
   "id": "fa7f4368",
   "metadata": {},
   "outputs": [
    {
     "name": "stdout",
     "output_type": "stream",
     "text": [
      "[[0.09726444]\n",
      " [0.14315275]\n",
      " [0.40623979]\n",
      " ...\n",
      " [1.        ]\n",
      " [1.        ]\n",
      " [1.        ]]\n"
     ]
    }
   ],
   "source": [
    "print(x_boundary)"
   ]
  },
  {
   "cell_type": "code",
   "execution_count": 6,
   "id": "018e811a",
   "metadata": {},
   "outputs": [],
   "source": [
    "x_boundary = np.concatenate([np.zeros((N, 1)), np.ones((N, 1))])\n",
    "y_boundary = np.concatenate([np.zeros((N, 1)), np.ones((N, 1))])"
   ]
  },
  {
   "cell_type": "code",
   "execution_count": 7,
   "id": "d90ab004",
   "metadata": {},
   "outputs": [
    {
     "name": "stdout",
     "output_type": "stream",
     "text": [
      "[[0.]\n",
      " [0.]\n",
      " [0.]\n",
      " ...\n",
      " [1.]\n",
      " [1.]\n",
      " [1.]]\n"
     ]
    }
   ],
   "source": [
    "print(x_boundary)"
   ]
  },
  {
   "cell_type": "code",
   "execution_count": 8,
   "id": "0195e569",
   "metadata": {},
   "outputs": [],
   "source": [
    "# Combine the interior and boundary points\n",
    "x_combined = np.vstack([x_interior, x_boundary])\n",
    "y_combined = np.vstack([y_interior, y_boundary])"
   ]
  },
  {
   "cell_type": "code",
   "execution_count": 9,
   "id": "e2bd0309",
   "metadata": {},
   "outputs": [
    {
     "name": "stdout",
     "output_type": "stream",
     "text": [
      "[[0.1985608 ]\n",
      " [0.99554532]\n",
      " [0.25841671]\n",
      " ...\n",
      " [1.        ]\n",
      " [1.        ]\n",
      " [1.        ]]\n"
     ]
    }
   ],
   "source": [
    "print(x_combined)"
   ]
  },
  {
   "cell_type": "code",
   "execution_count": 10,
   "id": "9558a24f",
   "metadata": {},
   "outputs": [
    {
     "ename": "TypeError",
     "evalue": "'float' object cannot be interpreted as an integer",
     "output_type": "error",
     "traceback": [
      "\u001b[1;31m---------------------------------------------------------------------------\u001b[0m",
      "\u001b[1;31mTypeError\u001b[0m                                 Traceback (most recent call last)",
      "Cell \u001b[1;32mIn[10], line 2\u001b[0m\n\u001b[0;32m      1\u001b[0m \u001b[38;5;66;03m# Sample points from the boundaries\u001b[39;00m\n\u001b[1;32m----> 2\u001b[0m x_boundary \u001b[38;5;241m=\u001b[39m np\u001b[38;5;241m.\u001b[39mconcatenate([\u001b[43mnp\u001b[49m\u001b[38;5;241;43m.\u001b[39;49m\u001b[43mzeros\u001b[49m\u001b[43m(\u001b[49m\u001b[43m(\u001b[49m\u001b[43mN\u001b[49m\u001b[43m \u001b[49m\u001b[38;5;241;43m/\u001b[39;49m\u001b[43m \u001b[49m\u001b[38;5;241;43m2\u001b[39;49m\u001b[43m,\u001b[49m\u001b[43m \u001b[49m\u001b[38;5;241;43m1\u001b[39;49m\u001b[43m)\u001b[49m\u001b[43m)\u001b[49m, np\u001b[38;5;241m.\u001b[39mones((N \u001b[38;5;241m/\u001b[39m \u001b[38;5;241m2\u001b[39m, \u001b[38;5;241m1\u001b[39m))])\n\u001b[0;32m      3\u001b[0m y_boundary \u001b[38;5;241m=\u001b[39m np\u001b[38;5;241m.\u001b[39mconcatenate([np\u001b[38;5;241m.\u001b[39mzeros((N \u001b[38;5;241m/\u001b[39m \u001b[38;5;241m2\u001b[39m, \u001b[38;5;241m1\u001b[39m)), np\u001b[38;5;241m.\u001b[39mones((N \u001b[38;5;241m/\u001b[39m \u001b[38;5;241m2\u001b[39m, \u001b[38;5;241m1\u001b[39m))])\n",
      "\u001b[1;31mTypeError\u001b[0m: 'float' object cannot be interpreted as an integer"
     ]
    }
   ],
   "source": [
    "# Sample points from the boundaries\n",
    "x_boundary = np.concatenate([np.zeros((N / 2, 1)), np.ones((N / 2, 1))])\n",
    "y_boundary = np.concatenate([np.zeros((N / 2, 1)), np.ones((N / 2, 1))])"
   ]
  },
  {
   "cell_type": "code",
   "execution_count": 11,
   "id": "50794f43",
   "metadata": {},
   "outputs": [],
   "source": [
    "class Net(nn.Module):\n",
    "    def __init__(self):\n",
    "        super(Net, self).__init__()\n",
    "        self.hidden_layer1 = nn.Linear(2, 20)\n",
    "        self.hidden_layer2 = nn.Linear(20, 20)\n",
    "        self.hidden_layer3 = nn.Linear(20, 20)\n",
    "        self.hidden_layer4 = nn.Linear(20, 20)\n",
    "        self.output_layer = nn.Linear(20, 4)"
   ]
  },
  {
   "cell_type": "code",
   "execution_count": 12,
   "id": "15e6dd0d",
   "metadata": {},
   "outputs": [],
   "source": [
    " def forward(self, x, y):\n",
    "        inputs = torch.cat([x.float(), y.float()], dim=1)\n",
    "        layer1_out = torch.tanh(self.hidden_layer1(inputs))\n",
    "        layer2_out = torch.tanh(self.hidden_layer2(layer1_out))\n",
    "        layer3_out = torch.tanh(self.hidden_layer3(layer2_out))\n",
    "        layer4_out = torch.tanh(self.hidden_layer4(layer3_out))\n",
    "        output = self.output_layer(layer4_out)\n",
    "        return output"
   ]
  },
  {
   "cell_type": "code",
   "execution_count": 13,
   "id": "6decd856",
   "metadata": {},
   "outputs": [],
   "source": [
    "    def loss_pde(self, x, y):\n",
    "        U = self(x,y)[:, 1].reshape(-1, 1)\n",
    "        V = self(x,y)[:, 2].reshape(-1, 1)\n",
    "        P = self(x,y)[:, 0].reshape(-1, 1)\n",
    "        theta = self(x,y)[:, 3].reshape(-1, 1)\n",
    "\n",
    "        # Derivatives\n",
    "        theta_x = torch.autograd.grad(theta.sum(), x, create_graph=True)[0]\n",
    "        theta_y = torch.autograd.grad(theta.sum(), y, create_graph=True)[0]\n",
    "        theta_xx = torch.autograd.grad(theta_x.sum(), x, create_graph=True)[0]\n",
    "        theta_yy = torch.autograd.grad(theta_y.sum(), y, create_graph=True)[0]\n",
    "\n",
    "        U_x = torch.autograd.grad(U.sum(), x, create_graph=True)[0]\n",
    "        U_y = torch.autograd.grad(U.sum(), y, create_graph=True)[0]\n",
    "        U_xx = torch.autograd.grad(U_x.sum(), x, create_graph=True)[0]\n",
    "        U_yy = torch.autograd.grad(U_y.sum(), y, create_graph=True)[0]\n",
    "\n",
    "        V_x = torch.autograd.grad(V.sum(), x, create_graph=True)[0]\n",
    "        V_y = torch.autograd.grad(V.sum(), y, create_graph=True)[0]\n",
    "        V_xx = torch.autograd.grad(V_x.sum(), x, create_graph=True)[0]\n",
    "        V_yy = torch.autograd.grad(V_y.sum(), y, create_graph=True)[0]\n",
    "\n",
    "        P_x = torch.autograd.grad(P.sum(), x, create_graph=True)[0]\n",
    "        P_y = torch.autograd.grad(P.sum(), y, create_graph=True)[0]\n",
    "\n",
    "        # Equations\n",
    "        eq1 = U_x + V_y  # mass conservation\n",
    "        eq2 = U * U_x + V * U_y - Pr * (U_xx + U_yy)  # momentum in x\n",
    "        eq3 = U * V_x + V * V_y - Pr * (V_xx + V_yy) + P_y - Ra * Pr * theta  # momentum in y\n",
    "        eq4 = U * theta_x + V * theta_y - (theta_xx + theta_yy)  # energy\n",
    "\n",
    "        loss1 = lossa(eq1, 0 * eq1)\n",
    "        loss2 = lossa(eq2, 0 * eq2)\n",
    "        loss3 = lossa(eq3, 0 * eq3)\n",
    "        loss4 = lossa(eq4, 0 * eq4)\n",
    "\n",
    "        loss_pde = loss1 + loss2 + loss3 + loss4\n",
    "        return loss_pde"
   ]
  },
  {
   "cell_type": "code",
   "execution_count": 14,
   "id": "40cd2541",
   "metadata": {},
   "outputs": [
    {
     "ename": "NameError",
     "evalue": "name 'scipy' is not defined",
     "output_type": "error",
     "traceback": [
      "\u001b[1;31m---------------------------------------------------------------------------\u001b[0m",
      "\u001b[1;31mNameError\u001b[0m                                 Traceback (most recent call last)",
      "Cell \u001b[1;32mIn[14], line 1\u001b[0m\n\u001b[1;32m----> 1\u001b[0m data \u001b[38;5;241m=\u001b[39m \u001b[43mscipy\u001b[49m\u001b[38;5;241m.\u001b[39mio\u001b[38;5;241m.\u001b[39mloadmat(\u001b[38;5;124m'\u001b[39m\u001b[38;5;124mcylinder_wake.mat\u001b[39m\u001b[38;5;124m'\u001b[39m)\n",
      "\u001b[1;31mNameError\u001b[0m: name 'scipy' is not defined"
     ]
    }
   ],
   "source": [
    "data = scipy.io.loadmat('cylinder_wake.mat')\n"
   ]
  },
  {
   "cell_type": "code",
   "execution_count": 15,
   "id": "ec688923",
   "metadata": {},
   "outputs": [],
   "source": [
    "import torch\n",
    "import torch.nn as nn\n",
    "import numpy as np\n",
    "import scipy.io\n",
    "from matplotlib import pyplot as plt"
   ]
  },
  {
   "cell_type": "code",
   "execution_count": 16,
   "id": "9b19f165",
   "metadata": {},
   "outputs": [
    {
     "ename": "FileNotFoundError",
     "evalue": "[Errno 2] No such file or directory: 'cylinder_wake.mat'",
     "output_type": "error",
     "traceback": [
      "\u001b[1;31m---------------------------------------------------------------------------\u001b[0m",
      "\u001b[1;31mFileNotFoundError\u001b[0m                         Traceback (most recent call last)",
      "File \u001b[1;32mC:\\anaconda3\\lib\\site-packages\\scipy\\io\\matlab\\_mio.py:39\u001b[0m, in \u001b[0;36m_open_file\u001b[1;34m(file_like, appendmat, mode)\u001b[0m\n\u001b[0;32m     38\u001b[0m \u001b[38;5;28;01mtry\u001b[39;00m:\n\u001b[1;32m---> 39\u001b[0m     \u001b[38;5;28;01mreturn\u001b[39;00m \u001b[38;5;28;43mopen\u001b[39;49m\u001b[43m(\u001b[49m\u001b[43mfile_like\u001b[49m\u001b[43m,\u001b[49m\u001b[43m \u001b[49m\u001b[43mmode\u001b[49m\u001b[43m)\u001b[49m, \u001b[38;5;28;01mTrue\u001b[39;00m\n\u001b[0;32m     40\u001b[0m \u001b[38;5;28;01mexcept\u001b[39;00m \u001b[38;5;167;01mOSError\u001b[39;00m \u001b[38;5;28;01mas\u001b[39;00m e:\n\u001b[0;32m     41\u001b[0m     \u001b[38;5;66;03m# Probably \"not found\"\u001b[39;00m\n",
      "\u001b[1;31mFileNotFoundError\u001b[0m: [Errno 2] No such file or directory: 'cylinder_wake.mat'",
      "\nDuring handling of the above exception, another exception occurred:\n",
      "\u001b[1;31mFileNotFoundError\u001b[0m                         Traceback (most recent call last)",
      "Cell \u001b[1;32mIn[16], line 1\u001b[0m\n\u001b[1;32m----> 1\u001b[0m data \u001b[38;5;241m=\u001b[39m \u001b[43mscipy\u001b[49m\u001b[38;5;241;43m.\u001b[39;49m\u001b[43mio\u001b[49m\u001b[38;5;241;43m.\u001b[39;49m\u001b[43mloadmat\u001b[49m\u001b[43m(\u001b[49m\u001b[38;5;124;43m'\u001b[39;49m\u001b[38;5;124;43mcylinder_wake.mat\u001b[39;49m\u001b[38;5;124;43m'\u001b[39;49m\u001b[43m)\u001b[49m\n",
      "File \u001b[1;32mC:\\anaconda3\\lib\\site-packages\\scipy\\io\\matlab\\_mio.py:225\u001b[0m, in \u001b[0;36mloadmat\u001b[1;34m(file_name, mdict, appendmat, **kwargs)\u001b[0m\n\u001b[0;32m     88\u001b[0m \u001b[38;5;124;03m\"\"\"\u001b[39;00m\n\u001b[0;32m     89\u001b[0m \u001b[38;5;124;03mLoad MATLAB file.\u001b[39;00m\n\u001b[0;32m     90\u001b[0m \n\u001b[1;32m   (...)\u001b[0m\n\u001b[0;32m    222\u001b[0m \u001b[38;5;124;03m    3.14159265+3.14159265j])\u001b[39;00m\n\u001b[0;32m    223\u001b[0m \u001b[38;5;124;03m\"\"\"\u001b[39;00m\n\u001b[0;32m    224\u001b[0m variable_names \u001b[38;5;241m=\u001b[39m kwargs\u001b[38;5;241m.\u001b[39mpop(\u001b[38;5;124m'\u001b[39m\u001b[38;5;124mvariable_names\u001b[39m\u001b[38;5;124m'\u001b[39m, \u001b[38;5;28;01mNone\u001b[39;00m)\n\u001b[1;32m--> 225\u001b[0m \u001b[38;5;28;01mwith\u001b[39;00m _open_file_context(file_name, appendmat) \u001b[38;5;28;01mas\u001b[39;00m f:\n\u001b[0;32m    226\u001b[0m     MR, _ \u001b[38;5;241m=\u001b[39m mat_reader_factory(f, \u001b[38;5;241m*\u001b[39m\u001b[38;5;241m*\u001b[39mkwargs)\n\u001b[0;32m    227\u001b[0m     matfile_dict \u001b[38;5;241m=\u001b[39m MR\u001b[38;5;241m.\u001b[39mget_variables(variable_names)\n",
      "File \u001b[1;32mC:\\anaconda3\\lib\\contextlib.py:135\u001b[0m, in \u001b[0;36m_GeneratorContextManager.__enter__\u001b[1;34m(self)\u001b[0m\n\u001b[0;32m    133\u001b[0m \u001b[38;5;28;01mdel\u001b[39;00m \u001b[38;5;28mself\u001b[39m\u001b[38;5;241m.\u001b[39margs, \u001b[38;5;28mself\u001b[39m\u001b[38;5;241m.\u001b[39mkwds, \u001b[38;5;28mself\u001b[39m\u001b[38;5;241m.\u001b[39mfunc\n\u001b[0;32m    134\u001b[0m \u001b[38;5;28;01mtry\u001b[39;00m:\n\u001b[1;32m--> 135\u001b[0m     \u001b[38;5;28;01mreturn\u001b[39;00m \u001b[38;5;28;43mnext\u001b[39;49m\u001b[43m(\u001b[49m\u001b[38;5;28;43mself\u001b[39;49m\u001b[38;5;241;43m.\u001b[39;49m\u001b[43mgen\u001b[49m\u001b[43m)\u001b[49m\n\u001b[0;32m    136\u001b[0m \u001b[38;5;28;01mexcept\u001b[39;00m \u001b[38;5;167;01mStopIteration\u001b[39;00m:\n\u001b[0;32m    137\u001b[0m     \u001b[38;5;28;01mraise\u001b[39;00m \u001b[38;5;167;01mRuntimeError\u001b[39;00m(\u001b[38;5;124m\"\u001b[39m\u001b[38;5;124mgenerator didn\u001b[39m\u001b[38;5;124m'\u001b[39m\u001b[38;5;124mt yield\u001b[39m\u001b[38;5;124m\"\u001b[39m) \u001b[38;5;28;01mfrom\u001b[39;00m \u001b[38;5;28mNone\u001b[39m\n",
      "File \u001b[1;32mC:\\anaconda3\\lib\\site-packages\\scipy\\io\\matlab\\_mio.py:17\u001b[0m, in \u001b[0;36m_open_file_context\u001b[1;34m(file_like, appendmat, mode)\u001b[0m\n\u001b[0;32m     15\u001b[0m \u001b[38;5;129m@contextmanager\u001b[39m\n\u001b[0;32m     16\u001b[0m \u001b[38;5;28;01mdef\u001b[39;00m \u001b[38;5;21m_open_file_context\u001b[39m(file_like, appendmat, mode\u001b[38;5;241m=\u001b[39m\u001b[38;5;124m'\u001b[39m\u001b[38;5;124mrb\u001b[39m\u001b[38;5;124m'\u001b[39m):\n\u001b[1;32m---> 17\u001b[0m     f, opened \u001b[38;5;241m=\u001b[39m \u001b[43m_open_file\u001b[49m\u001b[43m(\u001b[49m\u001b[43mfile_like\u001b[49m\u001b[43m,\u001b[49m\u001b[43m \u001b[49m\u001b[43mappendmat\u001b[49m\u001b[43m,\u001b[49m\u001b[43m \u001b[49m\u001b[43mmode\u001b[49m\u001b[43m)\u001b[49m\n\u001b[0;32m     18\u001b[0m     \u001b[38;5;28;01mtry\u001b[39;00m:\n\u001b[0;32m     19\u001b[0m         \u001b[38;5;28;01myield\u001b[39;00m f\n",
      "File \u001b[1;32mC:\\anaconda3\\lib\\site-packages\\scipy\\io\\matlab\\_mio.py:45\u001b[0m, in \u001b[0;36m_open_file\u001b[1;34m(file_like, appendmat, mode)\u001b[0m\n\u001b[0;32m     43\u001b[0m     \u001b[38;5;28;01mif\u001b[39;00m appendmat \u001b[38;5;129;01mand\u001b[39;00m \u001b[38;5;129;01mnot\u001b[39;00m file_like\u001b[38;5;241m.\u001b[39mendswith(\u001b[38;5;124m'\u001b[39m\u001b[38;5;124m.mat\u001b[39m\u001b[38;5;124m'\u001b[39m):\n\u001b[0;32m     44\u001b[0m         file_like \u001b[38;5;241m+\u001b[39m\u001b[38;5;241m=\u001b[39m \u001b[38;5;124m'\u001b[39m\u001b[38;5;124m.mat\u001b[39m\u001b[38;5;124m'\u001b[39m\n\u001b[1;32m---> 45\u001b[0m     \u001b[38;5;28;01mreturn\u001b[39;00m \u001b[38;5;28;43mopen\u001b[39;49m\u001b[43m(\u001b[49m\u001b[43mfile_like\u001b[49m\u001b[43m,\u001b[49m\u001b[43m \u001b[49m\u001b[43mmode\u001b[49m\u001b[43m)\u001b[49m, \u001b[38;5;28;01mTrue\u001b[39;00m\n\u001b[0;32m     46\u001b[0m \u001b[38;5;28;01melse\u001b[39;00m:\n\u001b[0;32m     47\u001b[0m     \u001b[38;5;28;01mraise\u001b[39;00m \u001b[38;5;167;01mOSError\u001b[39;00m(\n\u001b[0;32m     48\u001b[0m         \u001b[38;5;124m'\u001b[39m\u001b[38;5;124mReader needs file name or open file-like object\u001b[39m\u001b[38;5;124m'\u001b[39m\n\u001b[0;32m     49\u001b[0m     ) \u001b[38;5;28;01mfrom\u001b[39;00m \u001b[38;5;21;01me\u001b[39;00m\n",
      "\u001b[1;31mFileNotFoundError\u001b[0m: [Errno 2] No such file or directory: 'cylinder_wake.mat'"
     ]
    }
   ],
   "source": [
    "data = scipy.io.loadmat('cylinder_wake.mat')\n"
   ]
  },
  {
   "cell_type": "code",
   "execution_count": null,
   "id": "fc9a0f07",
   "metadata": {},
   "outputs": [],
   "source": []
  }
 ],
 "metadata": {
  "kernelspec": {
   "display_name": "Python 3 (ipykernel)",
   "language": "python",
   "name": "python3"
  },
  "language_info": {
   "codemirror_mode": {
    "name": "ipython",
    "version": 3
   },
   "file_extension": ".py",
   "mimetype": "text/x-python",
   "name": "python",
   "nbconvert_exporter": "python",
   "pygments_lexer": "ipython3",
   "version": "3.10.9"
  }
 },
 "nbformat": 4,
 "nbformat_minor": 5
}
